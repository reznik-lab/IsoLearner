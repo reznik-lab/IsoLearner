{
 "cells": [
  {
   "cell_type": "markdown",
   "metadata": {},
   "source": [
    "# GridSearch"
   ]
  },
  {
   "cell_type": "markdown",
   "metadata": {},
   "source": [
    "### IMPORTS"
   ]
  },
  {
   "cell_type": "code",
   "execution_count": null,
   "metadata": {},
   "outputs": [],
   "source": [
    "import tensorrt # Only if using GPU's on Juno Cluster\n",
    "import tensorflow as tf\n",
    "import pandas as pd\n",
    "import importlib\n",
    "import IsoLearner\n",
    "import visualization as vis\n",
    "import model\n",
    "\n",
    "importlib.reload(vis)\n",
    "importlib.reload(IsoLearner)\n",
    "importlib.reload(model)\n",
    "\n",
    "import numpy as np\n",
    "\n",
    "%reload_ext autoreload\n",
    "%autoreload 2\n",
    "print('done')"
   ]
  },
  {
   "cell_type": "markdown",
   "metadata": {},
   "source": [
    "### Create GridSearch Object"
   ]
  },
  {
   "cell_type": "code",
   "execution_count": null,
   "metadata": {},
   "outputs": [],
   "source": [
    "nodes = {\n",
    "    'layer_1': [128, 256, 512],\n",
    "    'layer_2': [128, 256, 512],\n",
    "    'layer_3': [128, 256, 512],\n",
    "    'layer_4': [128, 256, 512],\n",
    "    'layer_5': [128, 256, 512],\n",
    "    'layer_6': [128, 256, 512],\n",
    "    'layer_7': [128, 256, 512]\n",
    "}\n",
    "\n",
    "activation_functions = ['relu', 'tanh']\n",
    "\n",
    "learning_rate = 3e-05\n",
    "\n",
    "dropout = [0.25, 0.5]"
   ]
  },
  {
   "cell_type": "code",
   "execution_count": null,
   "metadata": {},
   "outputs": [],
   "source": [
    "GridSearch = model.model(nodes=nodes,\n",
    "                         activation_functions=activation_functions, \n",
    "                         learning_rate=learning_rate, \n",
    "                         dropout=dropout,\n",
    "                         lambda_val=0.001,)"
   ]
  },
  {
   "cell_type": "markdown",
   "metadata": {},
   "source": [
    "## Build all Models"
   ]
  },
  {
   "cell_type": "code",
   "execution_count": null,
   "metadata": {},
   "outputs": [],
   "source": [
    "models = GridSearch.build_models()"
   ]
  },
  {
   "cell_type": "code",
   "execution_count": null,
   "metadata": {},
   "outputs": [],
   "source": [
    "# Save Models\n",
    "for i in range(len(models)):\n",
    "    models[i].save(f'./all-models/model-{i}.h5')"
   ]
  },
  {
   "cell_type": "markdown",
   "metadata": {},
   "source": [
    "## Build IsoLearner Object"
   ]
  },
  {
   "cell_type": "code",
   "execution_count": null,
   "metadata": {},
   "outputs": [],
   "source": [
    "Brain_Glucose_IsoLearner = IsoLearner.IsoLearner(absolute_data_path = \"/juno/work/reznik/ilan/generated-data\",\n",
    "                                            relative_data_path = \"brain-m0-no-log\",\n",
    "                                            morans_path = 'valid-metabs-brain-glucose.txt', \n",
    "                                            FML=False,\n",
    "                                            tracer = 'glucose')"
   ]
  },
  {
   "cell_type": "code",
   "execution_count": null,
   "metadata": {},
   "outputs": [],
   "source": [
    "# Make sure shapes are consistent \n",
    "for i in range(len(Brain_Glucose_IsoLearner.clean_ion_data)):\n",
    "    print(Brain_Glucose_IsoLearner.clean_ion_data[i].shape, Brain_Glucose_IsoLearner.clean_iso_data[i].shape)"
   ]
  },
  {
   "cell_type": "code",
   "execution_count": null,
   "metadata": {},
   "outputs": [],
   "source": [
    "# Training\n",
    "Brain_Glucose_IsoLearner.cross_validation_training()"
   ]
  },
  {
   "cell_type": "markdown",
   "metadata": {},
   "source": [
    "## Extract Data"
   ]
  },
  {
   "cell_type": "code",
   "execution_count": null,
   "metadata": {},
   "outputs": [],
   "source": [
    "val_mae_ranked = {}\n",
    "for i in range(len(Brain_Glucose_IsoLearner.all_models)):\n",
    "    val_mae_ranked.update({i: Brain_Glucose_IsoLearner.all_models[i][3][1][-1]})"
   ]
  },
  {
   "cell_type": "code",
   "execution_count": null,
   "metadata": {},
   "outputs": [],
   "source": [
    "val_mae_ranked"
   ]
  },
  {
   "cell_type": "code",
   "execution_count": null,
   "metadata": {},
   "outputs": [],
   "source": [
    "val_mae_ranked = sorted(val_mae_ranked.items(), key=lambda x: x[1])\n",
    "val_mae_ranked"
   ]
  },
  {
   "cell_type": "code",
   "execution_count": null,
   "metadata": {},
   "outputs": [],
   "source": [
    "best_model = val_mae_ranked[0]\n",
    "print(f'THE BEST MODEL IS MODEL: #{best_model[0]}, which has a testing MAE of {best_model[1]}')"
   ]
  },
  {
   "cell_type": "code",
   "execution_count": null,
   "metadata": {},
   "outputs": [],
   "source": [
    "best_config = models[best_model[0]].get_config()"
   ]
  },
  {
   "cell_type": "code",
   "execution_count": null,
   "metadata": {},
   "outputs": [],
   "source": [
    "nodes_layer_1 = best_config['layers'][1]['config']['units']\n",
    "activation_layer_1 = best_config['layers'][1]['config']['activation']\n",
    "nodes_layer_2 = best_config['layers'][3]['config']['units']\n",
    "activation_layer_2 = best_config['layers'][3]['config']['activation']\n",
    "nodes_layer_3 = best_config['layers'][5]['config']['units']\n",
    "activation_layer_3 = best_config['layers'][5]['config']['activation']\n",
    "dropout_1 = best_config['layers'][7]['config']['rate']\n",
    "nodes_layer_4 = best_config['layers'][8]['config']['units']\n",
    "activation_layer_4 = best_config['layers'][8]['config']['activation']\n",
    "nodes_layer_5 = best_config['layers'][10]['config']['units']\n",
    "activation_layer_5 = best_config['layers'][10]['config']['activation']\n",
    "nodes_layer_6 = best_config['layers'][12]['config']['units']\n",
    "activation_layer_6 = best_config['layers'][12]['config']['activation']\n",
    "dropout_2 = best_config['layers'][14]['config']['rate']\n",
    "nodes_layer_7 = best_config['layers'][15]['config']['units']\n",
    "activation_layer_7 = best_config['layers'][15]['config']['activation']\n",
    "nodes_layer_final = best_config['layers'][17]['config']['units']\n",
    "activation_layer_final = best_config['layers'][17]['config']['activation']"
   ]
  },
  {
   "cell_type": "code",
   "execution_count": null,
   "metadata": {},
   "outputs": [],
   "source": [
    "best_model_data = {\n",
    "    'Layer 1': {\n",
    "        '# Nodes': nodes_layer_1,\n",
    "        'Activation': activation_layer_1,\n",
    "    },\n",
    "    'Layer 2': { \n",
    "        '# Nodes': nodes_layer_2,\n",
    "        'Activation': activation_layer_2,\n",
    "    },\n",
    "    'Layer 3': {\n",
    "        '# Nodes': nodes_layer_3,\n",
    "        'Activation': activation_layer_3,\n",
    "    },\n",
    "    'Dropout 1': dropout_1,\n",
    "    'Layer 4': { \n",
    "        '# Nodes': nodes_layer_4,\n",
    "        'Activation': activation_layer_4,\n",
    "    },\n",
    "    'Layer 5': {\n",
    "        '# Nodes': nodes_layer_5,\n",
    "        'Activation': activation_layer_5,\n",
    "    },\n",
    "    'Layer 6': { \n",
    "        '# Nodes': nodes_layer_6,\n",
    "        'Activation': activation_layer_6,\n",
    "    },\n",
    "    'Dropout 2': dropout_2,\n",
    "    'Layer 7': {\n",
    "        '# Nodes': nodes_layer_7,\n",
    "        'Activation': activation_layer_7,\n",
    "    },\n",
    "    'Final Layer': { \n",
    "        '# Nodes': nodes_layer_final,\n",
    "        'Activation': activation_layer_final,\n",
    "    }\n",
    "\n",
    "}"
   ]
  },
  {
   "cell_type": "code",
   "execution_count": null,
   "metadata": {},
   "outputs": [],
   "source": [
    "best_model_data"
   ]
  }
 ],
 "metadata": {
  "kernelspec": {
   "display_name": "Python [conda env:tf3]",
   "language": "python",
   "name": "conda-env-tf3-py"
  },
  "language_info": {
   "codemirror_mode": {
    "name": "ipython",
    "version": 3
   },
   "file_extension": ".py",
   "mimetype": "text/x-python",
   "name": "python",
   "nbconvert_exporter": "python",
   "pygments_lexer": "ipython3",
   "version": "3.11.4"
  }
 },
 "nbformat": 4,
 "nbformat_minor": 4
}
