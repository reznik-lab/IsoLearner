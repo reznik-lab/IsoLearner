{
 "cells": [
  {
   "cell_type": "markdown",
   "metadata": {},
   "source": [
    "# Comparing 2 Morans Strategies"
   ]
  },
  {
   "cell_type": "markdown",
   "metadata": {},
   "source": [
    "## Imports"
   ]
  },
  {
   "cell_type": "code",
   "execution_count": null,
   "metadata": {},
   "outputs": [],
   "source": [
    "import metab_iso_processing as processing\n",
    "import pandas as pd\n",
    "import numpy as np\n",
    "import matplotlib.pyplot as plt"
   ]
  },
  {
   "cell_type": "markdown",
   "metadata": {},
   "source": [
    "## Get Valid Metabs"
   ]
  },
  {
   "cell_type": "code",
   "execution_count": null,
   "metadata": {},
   "outputs": [],
   "source": [
    "metab_processor = processing.MIProcessing(absolute_data_path = \"/Users/goldfei/Documents/generated-data\", relative_data_path='brain-m0-no-log', morans_path = 'valid-metabs-brain-glucose.txt')"
   ]
  },
  {
   "cell_type": "code",
   "execution_count": null,
   "metadata": {},
   "outputs": [],
   "source": [
    "valid_metabolites = metab_processor.generate_valid_metabs()"
   ]
  },
  {
   "cell_type": "markdown",
   "metadata": {},
   "source": [
    "## Get Valid Isos"
   ]
  },
  {
   "cell_type": "code",
   "execution_count": null,
   "metadata": {},
   "outputs": [],
   "source": [
    "iso_processor = processing.MIProcessing(absolute_data_path = \"/Users/goldfei/Documents/generated-data\", relative_data_path='brain-m0-no-log', morans_path = 'valid-isos-brain-glucose.txt')"
   ]
  },
  {
   "cell_type": "code",
   "execution_count": null,
   "metadata": {},
   "outputs": [],
   "source": [
    "valid_isos = iso_processor.generate_valid_metabs()"
   ]
  },
  {
   "cell_type": "markdown",
   "metadata": {},
   "source": [
    "## How many good and bad Isos are we keeping per metabolite?"
   ]
  },
  {
   "cell_type": "code",
   "execution_count": null,
   "metadata": {},
   "outputs": [],
   "source": [
    "good_iso_count_kept = {}\n",
    "\n",
    "for metabolite in valid_metabolites:\n",
    "    count = sum(1 for iso in valid_isos if iso.startswith(metabolite + \" m+\"))\n",
    "    good_iso_count_kept[metabolite] = count"
   ]
  },
  {
   "cell_type": "code",
   "execution_count": null,
   "metadata": {},
   "outputs": [],
   "source": [
    "good_iso_count_kept"
   ]
  },
  {
   "cell_type": "code",
   "execution_count": null,
   "metadata": {},
   "outputs": [],
   "source": [
    "all_isos = iso_processor.get_all_metabs()"
   ]
  },
  {
   "cell_type": "code",
   "execution_count": null,
   "metadata": {},
   "outputs": [],
   "source": [
    "all_iso_count_kept = {}\n",
    "\n",
    "for metabolite in valid_metabolites:\n",
    "    count = sum(1 for iso in all_isos[0] if iso.startswith(metabolite + \" m+\"))\n",
    "    all_iso_count_kept[metabolite] = count"
   ]
  },
  {
   "cell_type": "code",
   "execution_count": null,
   "metadata": {},
   "outputs": [],
   "source": [
    "all_iso_count_kept"
   ]
  },
  {
   "cell_type": "code",
   "execution_count": null,
   "metadata": {},
   "outputs": [],
   "source": [
    "bad_iso_count_kept = {metabolite: all_iso_count_kept[metabolite] - good_iso_count_kept[metabolite] for metabolite in all_iso_count_kept}"
   ]
  },
  {
   "cell_type": "code",
   "execution_count": null,
   "metadata": {},
   "outputs": [],
   "source": [
    "bad_iso_count_kept"
   ]
  },
  {
   "cell_type": "markdown",
   "metadata": {},
   "source": [
    "## Plotting"
   ]
  },
  {
   "cell_type": "code",
   "execution_count": null,
   "metadata": {},
   "outputs": [],
   "source": [
    "bar_width = 0.6\n",
    "index = range(len(all_iso_count_kept))\n",
    "\n",
    "fig, ax = plt.subplots(figsize=(20, 15))\n",
    "\n",
    "bar1 = ax.barh(index, good_iso_count_kept.values(), bar_width, label='Good Isotopologues', color='#A6C48A')\n",
    "bar2 = ax.barh(index, bad_iso_count_kept.values(), bar_width, left=list(good_iso_count_kept.values()), label='Bad Isotopologues', color='#DD9787')\n",
    "\n",
    "for i, (good, bad) in enumerate(zip(good_iso_count_kept.values(), bad_iso_count_kept.values())):\n",
    "    ax.text(good + bad + 0.5, i, f\"{good} / {bad}\", va='center')\n",
    "\n",
    "ax.set_ylabel('Metabolite')\n",
    "ax.set_xlabel('# of Isotopologues')\n",
    "ax.set_title('Good vs Bad Isotopologues Kept per Metabolite')\n",
    "ax.set_yticks(index)\n",
    "ax.set_yticklabels(all_iso_count_kept.keys())\n",
    "ax.legend()\n",
    "\n",
    "plt.tight_layout()\n",
    "plt.show()"
   ]
  },
  {
   "cell_type": "markdown",
   "metadata": {},
   "source": [
    "## How many good and bad Isos are we throwing out per metabolite?"
   ]
  },
  {
   "cell_type": "code",
   "execution_count": null,
   "metadata": {},
   "outputs": [],
   "source": [
    "all_metabs = metab_processor.get_all_metabs()[0]"
   ]
  },
  {
   "cell_type": "code",
   "execution_count": null,
   "metadata": {},
   "outputs": [],
   "source": [
    "len(all_metabs)"
   ]
  },
  {
   "cell_type": "code",
   "execution_count": null,
   "metadata": {},
   "outputs": [],
   "source": [
    "invalid_metabs = []\n",
    "\n",
    "for metab in all_metabs:\n",
    "    if metab not in valid_metabolites:\n",
    "        invalid_metabs.append(metab)\n"
   ]
  },
  {
   "cell_type": "code",
   "execution_count": null,
   "metadata": {},
   "outputs": [],
   "source": [
    "len(invalid_metabs)"
   ]
  },
  {
   "cell_type": "code",
   "execution_count": null,
   "metadata": {},
   "outputs": [],
   "source": [
    "all_isos = iso_processor.get_all_metabs()[0]"
   ]
  },
  {
   "cell_type": "code",
   "execution_count": null,
   "metadata": {},
   "outputs": [],
   "source": [
    "len(all_isos)"
   ]
  },
  {
   "cell_type": "code",
   "execution_count": null,
   "metadata": {},
   "outputs": [],
   "source": [
    "invalid_isos = []\n",
    "\n",
    "for iso in all_isos:\n",
    "    if iso not in valid_isos:\n",
    "        invalid_isos.append(iso)"
   ]
  },
  {
   "cell_type": "code",
   "execution_count": null,
   "metadata": {},
   "outputs": [],
   "source": [
    "len(invalid_isos)"
   ]
  },
  {
   "cell_type": "code",
   "execution_count": null,
   "metadata": {},
   "outputs": [],
   "source": [
    "bad_iso_count_dropped = {}\n",
    "\n",
    "for metabolite in invalid_metabs:\n",
    "    count = sum(1 for iso in invalid_isos if iso.startswith(metabolite + \" m+\"))\n",
    "    bad_iso_count_dropped[metabolite] = count"
   ]
  },
  {
   "cell_type": "code",
   "execution_count": null,
   "metadata": {},
   "outputs": [],
   "source": [
    "all_iso_count_dropped = {}\n",
    "\n",
    "for metabolite in invalid_metabs:\n",
    "    count = sum(1 for iso in all_isos if iso.startswith(metabolite + \" m+\"))\n",
    "    all_iso_count_dropped[metabolite] = count"
   ]
  },
  {
   "cell_type": "code",
   "execution_count": null,
   "metadata": {},
   "outputs": [],
   "source": [
    "good_iso_count_dropped = {metabolite: all_iso_count_dropped[metabolite] - bad_iso_count_dropped[metabolite] for metabolite in all_iso_count_dropped}"
   ]
  },
  {
   "cell_type": "code",
   "execution_count": null,
   "metadata": {},
   "outputs": [],
   "source": [
    "good_iso_count_dropped"
   ]
  },
  {
   "cell_type": "code",
   "execution_count": null,
   "metadata": {},
   "outputs": [],
   "source": [
    "bar_width = 0.7\n",
    "index = range(len(all_iso_count_dropped))\n",
    "\n",
    "fig, ax = plt.subplots(figsize=(20, 40))\n",
    "\n",
    "bar1 = ax.barh(index, good_iso_count_dropped.values(), bar_width, label='Good Isotopologues', color='#A6C48A')\n",
    "bar2 = ax.barh(index, bad_iso_count_dropped.values(), bar_width, left=list(good_iso_count_dropped.values()), label='Bad Isotopologues', color='#DD9787')\n",
    "\n",
    "for i, (good, bad) in enumerate(zip(good_iso_count_dropped.values(), bad_iso_count_dropped.values())):\n",
    "    ax.text(good + bad + 0.5, i, f\"{good} / {bad}\", va='center')\n",
    "\n",
    "ax.set_ylabel('Metabolite')\n",
    "ax.set_xlabel('# of Isotopologues')\n",
    "ax.set_title('Good vs Bad Isotopologues Dropped per Metabolite')\n",
    "ax.set_yticks(index)\n",
    "ax.set_yticklabels(all_iso_count_dropped.keys())\n",
    "ax.legend()\n",
    "\n",
    "plt.tight_layout()\n",
    "plt.show()"
   ]
  }
 ],
 "metadata": {
  "kernelspec": {
   "display_name": "Python 3",
   "language": "python",
   "name": "python3"
  },
  "language_info": {
   "codemirror_mode": {
    "name": "ipython",
    "version": 3
   },
   "file_extension": ".py",
   "mimetype": "text/x-python",
   "name": "python",
   "nbconvert_exporter": "python",
   "pygments_lexer": "ipython3",
   "version": "3.11.4"
  },
  "orig_nbformat": 4
 },
 "nbformat": 4,
 "nbformat_minor": 2
}
