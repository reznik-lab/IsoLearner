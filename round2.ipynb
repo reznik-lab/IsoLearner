{
 "cells": [
  {
   "cell_type": "markdown",
   "metadata": {},
   "source": [
    "# Round 2 of GridSearch - Only use if didn't test all parameters in first round"
   ]
  },
  {
   "cell_type": "markdown",
   "metadata": {},
   "source": [
    "### Imports"
   ]
  },
  {
   "cell_type": "code",
   "execution_count": null,
   "metadata": {},
   "outputs": [],
   "source": [
    "import tensorflow as tf\n",
    "import pandas as pd\n",
    "import importlib\n",
    "import IsoLearner\n",
    "import visualization as vis\n",
    "import model\n",
    "import numpy as np\n",
    "import csv \n",
    "import json\n",
    "import model\n",
    "import importlib\n",
    "importlib.reload(IsoLearner)\n",
    "importlib.reload(model)\n",
    "importlib.reload(vis)"
   ]
  },
  {
   "cell_type": "markdown",
   "metadata": {},
   "source": [
    "### Get Results of Round 1"
   ]
  },
  {
   "cell_type": "code",
   "execution_count": null,
   "metadata": {},
   "outputs": [],
   "source": [
    "df = pd.read_excel('GridSearch Results.xlsx')\n",
    "df.drop('Unnamed: 0', axis=1, inplace=True)\n",
    "df_sorted = df.sort_values('Testing MSE')\n",
    "best_10 = df_sorted.head(10)\n",
    "worst_10 = df_sorted.tail(10)"
   ]
  },
  {
   "cell_type": "markdown",
   "metadata": {},
   "source": [
    "### Round 2"
   ]
  },
  {
   "cell_type": "code",
   "execution_count": null,
   "metadata": {},
   "outputs": [],
   "source": [
    "total_model_count = 0\n",
    "for i in best_10.index:\n",
    "    nodes = {\n",
    "        'layer_1': int,\n",
    "        'layer_2': int,\n",
    "        'layer_3': int,\n",
    "        'layer_4': int,\n",
    "        'layer_5': int,\n",
    "        'layer_6': int,\n",
    "        'layer_7': [128, 256, 512]\n",
    "    }\n",
    "\n",
    "    activation_functions = ['relu', 'tanh']\n",
    "\n",
    "    learning_rate = 3e-05\n",
    "    layer = []\n",
    "    config_path = f'./model-configs/model-{i}.json'\n",
    "    #print(config_path)\n",
    "    f = open(config_path)\n",
    "    data = json.load(f)\n",
    "    for i in range(6):\n",
    "        #print(data[f'Layer {i+1}']['# Nodes'])\n",
    "        nodes[f'layer_{i+1}'] = data[f'Layer {i+1}']['# Nodes']\n",
    "\n",
    "\n",
    "    print(nodes)\n",
    "    GridSearch = model.model(nodes=nodes,\n",
    "                        activation_functions=activation_functions, \n",
    "                        learning_rate=learning_rate,\n",
    "                        dropout=0.25 ,\n",
    "                        lambda_val=0.001)\n",
    "    \n",
    "    models = GridSearch.build_models()\n",
    "\n",
    "    for x in range(len(models)):\n",
    "        models[x].save(f'./round-2-models/model-{total_model_count}.h5')\n",
    "        total_model_count = total_model_count + 1\n",
    "\n",
    "    #print(data)"
   ]
  }
 ],
 "metadata": {
  "kernelspec": {
   "display_name": "Python 3",
   "language": "python",
   "name": "python3"
  },
  "language_info": {
   "codemirror_mode": {
    "name": "ipython",
    "version": 3
   },
   "file_extension": ".py",
   "mimetype": "text/x-python",
   "name": "python",
   "nbconvert_exporter": "python",
   "pygments_lexer": "ipython3",
   "version": "3.11.4"
  },
  "orig_nbformat": 4
 },
 "nbformat": 4,
 "nbformat_minor": 2
}
